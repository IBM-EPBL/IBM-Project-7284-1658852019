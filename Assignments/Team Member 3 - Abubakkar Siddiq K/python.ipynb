{
  "nbformat": 4,
  "nbformat_minor": 0,
  "metadata": {
    "colab": {
      "provenance": []
    },
    "kernelspec": {
      "name": "python3",
      "display_name": "Python 3"
    },
    "language_info": {
      "name": "python"
    }
  },
  "cells": [
    {
      "cell_type": "markdown",
      "source": [
        "write a python program to test a given number is prime or not"
      ],
      "metadata": {
        "id": "FKBXeDqVVxS8"
      }
    },
    {
      "cell_type": "code",
      "execution_count": 4,
      "metadata": {
        "colab": {
          "base_uri": "https://localhost:8080/"
        },
        "id": "fl7JbVBKVE2v",
        "outputId": "860b22fa-c9a8-4faa-f68d-f481b816909f"
      },
      "outputs": [
        {
          "output_type": "stream",
          "name": "stdout",
          "text": [
            "Enter The Number : 22\n",
            "22 is not a prime number\n",
            "2 times 11 is 22\n"
          ]
        }
      ],
      "source": [
        "number = int(input(\"Enter The Number : \"))\n",
        "if number > 1:\n",
        "   for i in range(2,number):\n",
        "       if (number % i) == 0:\n",
        "           print(number,\"is not a prime number\")\n",
        "           print(i,\"times\",number//i,\"is\",number)\n",
        "           break\n",
        "       else:\n",
        "           print(number,\"is a prime number\")\n",
        "           break\n",
        "else:\n",
        "   print(number,\"is not a prime number\")"
      ]
    },
    {
      "cell_type": "markdown",
      "source": [
        "write a python program to generate odd numbers from m to n using while loop"
      ],
      "metadata": {
        "id": "Hjq92t4mVspx"
      }
    },
    {
      "cell_type": "code",
      "source": [
        "m = int(input(\"Enter the starting number : \"))\n",
        "n = int(input(\"Enter the Maximum Value : \"))\n",
        "while m <= n:\n",
        "    if(m % 2 != 0):\n",
        "        print(\"{0}\".format(m))\n",
        "    m = m + 1"
      ],
      "metadata": {
        "colab": {
          "base_uri": "https://localhost:8080/"
        },
        "id": "-mDykKFsWqZL",
        "outputId": "535bae6a-63e2-45c9-ae91-90ad6affe97e"
      },
      "execution_count": 5,
      "outputs": [
        {
          "output_type": "stream",
          "name": "stdout",
          "text": [
            "Enter the starting number : 21\n",
            "Enter the Maximum Value : 35\n",
            "21\n",
            "23\n",
            "25\n",
            "27\n",
            "29\n",
            "31\n",
            "33\n",
            "35\n"
          ]
        }
      ]
    },
    {
      "cell_type": "markdown",
      "source": [
        "write a python program to display prime number series upto given number"
      ],
      "metadata": {
        "id": "pCSOCid4YC30"
      }
    },
    {
      "cell_type": "code",
      "source": [
        "m = int(input(\"Enter the starting number : \"))\n",
        "n = int(input(\"Enter the maximum value : \"))\n",
        "for i in range(m,n + 1):\n",
        "   if i > 1:\n",
        "       for j in range(2,i):\n",
        "           if (i % j) == 0:\n",
        "               break\n",
        "       else:\n",
        "           print(i)"
      ],
      "metadata": {
        "colab": {
          "base_uri": "https://localhost:8080/"
        },
        "id": "xin9rz7oYWxs",
        "outputId": "7d8aacbb-b250-4e92-bf2f-46b84e5a05ff"
      },
      "execution_count": 6,
      "outputs": [
        {
          "output_type": "stream",
          "name": "stdout",
          "text": [
            "Enter the starting number : 5\n",
            "Enter the maximum value : 20\n",
            "5\n",
            "7\n",
            "11\n",
            "13\n",
            "17\n",
            "19\n"
          ]
        }
      ]
    },
    {
      "cell_type": "markdown",
      "source": [
        "write a python program to generate  a fibonacci series"
      ],
      "metadata": {
        "id": "uKU5Z9sdaMqj"
      }
    },
    {
      "cell_type": "code",
      "source": [
        "no_of_terms = int(input (\"How many terms the user wants to print? \"))  \n",
        "first_no = int(input(\"enter the first number : \")) \n",
        "second_no = int(input(\"enter the second number : \"))  \n",
        "count = 0   \n",
        "if no_of_terms <= 0:  \n",
        "    print (\"Please enter a positive integer, the given number is not valid\")  \n",
        "elif no_of_terms == 1:  \n",
        "    print (\"The Fibonacci sequence of the numbers up to\", no_of_terms, \": \")  \n",
        "    print(first_no)  \n",
        "else:  \n",
        "    print (\"The fibonacci sequence of the numbers is:\")  \n",
        "    while count < no_of_terms:  \n",
        "        print(first_no)  \n",
        "        nth = first_no + second_no \n",
        "        first_no = second_no  \n",
        "        second_no = nth  \n",
        "        count += 1  "
      ],
      "metadata": {
        "colab": {
          "base_uri": "https://localhost:8080/"
        },
        "id": "FKuXI-WWaaX-",
        "outputId": "8f09878a-73d8-4763-88ea-97503d7de5d2"
      },
      "execution_count": 7,
      "outputs": [
        {
          "output_type": "stream",
          "name": "stdout",
          "text": [
            "How many terms the user wants to print? 7\n",
            "enter the first number : 5\n",
            "enter the second number : 6\n",
            "The fibonacci sequence of the numbers is:\n",
            "5\n",
            "6\n",
            "11\n",
            "17\n",
            "28\n",
            "45\n",
            "73\n"
          ]
        }
      ]
    }
  ]
}