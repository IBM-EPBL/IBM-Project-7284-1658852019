{
  "nbformat": 4,
  "nbformat_minor": 0,
  "metadata": {
    "colab": {
      "provenance": []
    },
    "kernelspec": {
      "name": "python3",
      "display_name": "Python 3"
    },
    "language_info": {
      "name": "python"
    }
  },
  "cells": [
    {
      "cell_type": "code",
      "execution_count": 6,
      "metadata": {
        "colab": {
          "base_uri": "https://localhost:8080/"
        },
        "id": "lPI9mk0ZGSlW",
        "outputId": "7d0edee1-37ba-41da-eafb-c8d4a134ef24"
      },
      "outputs": [
        {
          "output_type": "stream",
          "name": "stdout",
          "text": [
            "Enter any number: 20\n",
            "20 is not a prime number\n"
          ]
        }
      ],
      "source": [
        "num = int(input(\"Enter any number: \"))\n",
        "if num > 1:\n",
        "    for i in range(2, num):\n",
        "        if (num % i) == 0:\n",
        "            print(num, \"is not a prime number\")\n",
        "            break\n",
        "    else:\n",
        "        print(num, \"is a prime number\")\n",
        "else:\n",
        "    print(num, \"is not a prime number\")"
      ]
    },
    {
      "cell_type": "code",
      "source": [
        "\"\"\"write a python program to generate odd numbers from m to n using while loop\"\"\"\n",
        "num = int(input(\"Enter the starting number : \"))\n",
        "max = int(input(\"Enter the Maximum Value : \"))\n",
        "while num <= max:\n",
        "    if(num % 2 != 0):\n",
        "        print(\"{0}\".format(num))\n",
        "    num = num + 1"
      ],
      "metadata": {
        "colab": {
          "base_uri": "https://localhost:8080/"
        },
        "id": "Q1I2nVotxVqZ",
        "outputId": "5da94e74-1212-4f0d-a2ac-733a9017c1ca"
      },
      "execution_count": 7,
      "outputs": [
        {
          "output_type": "stream",
          "name": "stdout",
          "text": [
            "Enter the starting number : 6\n",
            "Enter the Maximum Value : 26\n",
            "7\n",
            "9\n",
            "11\n",
            "13\n",
            "15\n",
            "17\n",
            "19\n",
            "21\n",
            "23\n",
            "25\n"
          ]
        }
      ]
    },
    {
      "cell_type": "code",
      "source": [
        "\"\"\"write a python program to display prime number series upto given number\"\"\"\n",
        "num = int(input(\"Enter the starting number : \"))\n",
        "max = int(input(\"Enter the maximum value : \"))\n",
        "for i in range(num, max + 1):\n",
        "   if i > 1:\n",
        "       for j in range(2,i):\n",
        "           if (i % j) == 0:\n",
        "               break\n",
        "       else:\n",
        "           print(i)"
      ],
      "metadata": {
        "colab": {
          "base_uri": "https://localhost:8080/"
        },
        "id": "7BkgoCsUxfHa",
        "outputId": "bd16addf-5273-48da-b8ce-3795b6ac989e"
      },
      "execution_count": 9,
      "outputs": [
        {
          "output_type": "stream",
          "name": "stdout",
          "text": [
            "Enter the starting number : 31\n",
            "Enter the maximum value : 51\n",
            "31\n",
            "37\n",
            "41\n",
            "43\n",
            "47\n"
          ]
        }
      ]
    },
    {
      "cell_type": "code",
      "source": [
        "\"\"\"write a python program to generate  a fibonacci series\"\"\"\n",
        "no_of_terms = int(input (\"How many terms the user wants to print? \"))  \n",
        "first_no = int(input(\"enter the first number : \")) \n",
        "second_no = int(input(\"enter the second number : \"))  \n",
        "count = 0   \n",
        "if no_of_terms <= 0:  \n",
        "    print (\"Please enter a positive integer, the given number is not valid\")  \n",
        "elif no_of_terms == 1:  \n",
        "    print (\"The Fibonacci sequence of the numbers up to\", no_of_terms, \": \")  \n",
        "    print(first_no)  \n",
        "else:  \n",
        "    print (\"The fibonacci sequence of the numbers is:\")  \n",
        "    while count < no_of_terms:  \n",
        "        print(first_no)  \n",
        "        nth = first_no + second_no \n",
        "        first_no = second_no  \n",
        "        second_no = nth  \n",
        "        count += 1"
      ],
      "metadata": {
        "colab": {
          "base_uri": "https://localhost:8080/"
        },
        "id": "9t9xFz8hxnaO",
        "outputId": "04106ff0-66a8-49ed-d991-9415141beedd"
      },
      "execution_count": 10,
      "outputs": [
        {
          "output_type": "stream",
          "name": "stdout",
          "text": [
            "How many terms the user wants to print? 10\n",
            "enter the first number : 1\n",
            "enter the second number : 5\n",
            "The fibonacci sequence of the numbers is:\n",
            "1\n",
            "5\n",
            "6\n",
            "11\n",
            "17\n",
            "28\n",
            "45\n",
            "73\n",
            "118\n",
            "191\n"
          ]
        }
      ]
    }
  ]
}