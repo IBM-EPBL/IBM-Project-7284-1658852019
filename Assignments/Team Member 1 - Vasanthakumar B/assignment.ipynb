{
  "nbformat": 4,
  "nbformat_minor": 0,
  "metadata": {
    "colab": {
      "provenance": []
    },
    "kernelspec": {
      "name": "python3",
      "display_name": "Python 3"
    },
    "language_info": {
      "name": "python"
    }
  },
  "cells": [
    {
      "cell_type": "code",
      "execution_count": 2,
      "metadata": {
        "colab": {
          "base_uri": "https://localhost:8080/"
        },
        "id": "lPI9mk0ZGSlW",
        "outputId": "831b4c7f-cf0d-4dbc-8934-dcf836ae2fc8"
      },
      "outputs": [
        {
          "output_type": "stream",
          "name": "stdout",
          "text": [
            "Enter any number: 17\n",
            "17 is a prime number\n"
          ]
        }
      ],
      "source": [
        "number = int(input(\"Enter any number: \"))\n",
        "if number > 1:\n",
        "    for i in range(2, number):\n",
        "        if (number % i) == 0:\n",
        "            print(number, \"is not a prime number\")\n",
        "            break\n",
        "    else:\n",
        "        print(number, \"is a prime number\")\n",
        "else:\n",
        "    print(number, \"is not a prime number\")"
      ]
    },
    {
      "cell_type": "code",
      "source": [
        "\"\"\"write a python program to generate odd numbers from m to n using while loop\"\"\"\n",
        "starting_num = int(input(\"Enter the starting number : \"))\n",
        "max = int(input(\"Enter the Maximum Value : \"))\n",
        "while starting_num <= max:\n",
        "    if(starting_num % 2 != 0):\n",
        "        print(\"{0}\".format(starting_num))\n",
        "    starting_num = starting_num + 1"
      ],
      "metadata": {
        "colab": {
          "base_uri": "https://localhost:8080/"
        },
        "id": "Q1I2nVotxVqZ",
        "outputId": "0849e436-3382-4813-c649-6ca4470833a6"
      },
      "execution_count": 3,
      "outputs": [
        {
          "output_type": "stream",
          "name": "stdout",
          "text": [
            "Enter the starting number : 12\n",
            "Enter the Maximum Value : 22\n",
            "13\n",
            "15\n",
            "17\n",
            "19\n",
            "21\n"
          ]
        }
      ]
    },
    {
      "cell_type": "code",
      "source": [
        "\"\"\"write a python program to display prime number series upto given number\"\"\"\n",
        "starting = int(input(\"Enter the starting number : \"))\n",
        "maximum = int(input(\"Enter the maximum value : \"))\n",
        "for i in range(starting, maximum + 1):\n",
        "   if i > 1:\n",
        "       for j in range(2,i):\n",
        "           if (i % j) == 0:\n",
        "               break\n",
        "       else:\n",
        "           print(i)"
      ],
      "metadata": {
        "colab": {
          "base_uri": "https://localhost:8080/"
        },
        "id": "7BkgoCsUxfHa",
        "outputId": "6bb4ef20-9157-4c51-98cb-bdda3e231aa9"
      },
      "execution_count": 4,
      "outputs": [
        {
          "output_type": "stream",
          "name": "stdout",
          "text": [
            "Enter the starting number : 12\n",
            "Enter the maximum value : 22\n",
            "13\n",
            "17\n",
            "19\n"
          ]
        }
      ]
    },
    {
      "cell_type": "code",
      "source": [
        "\"\"\"write a python program to generate  a fibonacci series\"\"\"\n",
        "no_of_terms = int(input (\"How many terms the user wants to print? \"))  \n",
        "first_no = int(input(\"enter the first number : \")) \n",
        "second_no = int(input(\"enter the second number : \"))  \n",
        "count = 0   \n",
        "if no_of_terms <= 0:  \n",
        "    print (\"Please enter a positive integer, the given number is not valid\")  \n",
        "elif no_of_terms == 1:  \n",
        "    print (\"The Fibonacci sequence of the numbers up to\", no_of_terms, \": \")  \n",
        "    print(first_no)  \n",
        "else:  \n",
        "    print (\"The fibonacci sequence of the numbers is:\")  \n",
        "    while count < no_of_terms:  \n",
        "        print(first_no)  \n",
        "        nth = first_no + second_no \n",
        "        first_no = second_no  \n",
        "        second_no = nth  \n",
        "        count += 1"
      ],
      "metadata": {
        "colab": {
          "base_uri": "https://localhost:8080/"
        },
        "id": "9t9xFz8hxnaO",
        "outputId": "2e381c62-cdda-46e4-c254-e5555674f851"
      },
      "execution_count": 5,
      "outputs": [
        {
          "output_type": "stream",
          "name": "stdout",
          "text": [
            "How many terms the user wants to print? 6\n",
            "enter the first number : 1\n",
            "enter the second number : 4\n",
            "The fibonacci sequence of the numbers is:\n",
            "1\n",
            "4\n",
            "5\n",
            "9\n",
            "14\n",
            "23\n"
          ]
        }
      ]
    }
  ]
}